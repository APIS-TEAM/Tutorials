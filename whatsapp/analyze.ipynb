{
 "cells": [
  {
   "cell_type": "code",
   "execution_count": null,
   "metadata": {
    "collapsed": false
   },
   "outputs": [],
   "source": [
    "%matplotlib inline\n",
    "import calendar\n",
    "from datetime import datetime\n",
    "\n",
    "import pandas as pd\n",
    "import matplotlib.pyplot as plt\n",
    "import numpy as np\n",
    "from pylab import rcParams\n",
    "from sqlalchemy import create_engine\n",
    "\n",
    "# pretty plots\n",
    "import seaborn as sns\n",
    "\n",
    "rcParams['figure.figsize'] = (16.0, 16.0)"
   ]
  },
  {
   "cell_type": "code",
   "execution_count": null,
   "metadata": {
    "collapsed": true
   },
   "outputs": [],
   "source": [
    "DATABASE_URL = \"sqlite:///msgstore.db\""
   ]
  },
  {
   "cell_type": "code",
   "execution_count": null,
   "metadata": {
    "collapsed": false
   },
   "outputs": [],
   "source": [
    "engine = create_engine(DATABASE_URL)\n",
    "df = pd.read_sql('SELECT key_remote_jid, timestamp, key_from_me FROM messages '\n",
    "                 'WHERE key_remote_jid LIKE \"%@s.whatsapp.net\"', engine)\n",
    "\n",
    "# convert timestamp to datetime object\n",
    "df['timestamp'] = pd.to_datetime(df['timestamp'], unit='ms')\n",
    "df.set_index('timestamp', inplace=True)\n",
    "\n",
    "df['year'] = df.index.map(lambda x: x.year)\n",
    "df['month'] = df.index.map(lambda x: x.month)\n",
    "\n",
    "print df.tail()"
   ]
  },
  {
   "cell_type": "code",
   "execution_count": null,
   "metadata": {
    "collapsed": false
   },
   "outputs": [],
   "source": [
    "# monthly chat traffic analysis\n",
    "month_df = pd.DataFrame.from_dict({\n",
    "    'overall': df.groupby('month').month.count(),\n",
    "    '2013': df[df['year'] == 2013].groupby('month').month.count(),\n",
    "    '2014': df[df['year'] == 2014].groupby('month').month.count(),\n",
    "    '2015': df[df['year'] == 2015].groupby('month').month.count(),\n",
    "})\n",
    "month_df.plot(kind='area', stacked=False, figsize=(16, 9), \n",
    "              grid=True, x_compat=True)"
   ]
  },
  {
   "cell_type": "code",
   "execution_count": null,
   "metadata": {
    "collapsed": false
   },
   "outputs": [],
   "source": [
    "# (in)frequently contacted friends\n",
    "df.key_remote_jid\\\n",
    "  .value_counts()\\\n",
    "  .plot(logy=True)"
   ]
  },
  {
   "cell_type": "code",
   "execution_count": null,
   "metadata": {
    "collapsed": false
   },
   "outputs": [],
   "source": [
    "# speed of sending messages\n",
    "# sent messages\n",
    "tx_df = pd.DataFrame({\n",
    "    'sent': df[df['key_from_me'] == 1].key_from_me,\n",
    "})\n",
    "\n",
    "# received messages\n",
    "rx_df = pd.DataFrame({\n",
    "    'received': df[df['key_from_me'] == 0].key_from_me,\n",
    "})\n",
    "rx_df['received'] = 1  # important, since key_from_me = 0\n",
    "# print tx_df.describe(), rx_df.describe()\n",
    "\n",
    "# full outer join rx and tx\n",
    "rxtx_df = rx_df.merge(tx_df, left_index=True, right_index=True, how='outer')\n",
    "rxtx_df = rxtx_df.fillna(0)\n",
    "rxtx_df['received'] = rxtx_df['received'].map(lambda x: 1 if x > 0 else 0)\n",
    "rxtx_df['sent'] = rxtx_df['sent'].map(lambda x: 1 if x > 0 else 0)\n",
    "rxtx_df['total'] = rxtx_df['received'] + rxtx_df['sent']\n",
    "\n",
    "rxtx_df.cumsum().plot(figsize=(16, 9))"
   ]
  },
  {
   "cell_type": "code",
   "execution_count": null,
   "metadata": {
    "collapsed": false
   },
   "outputs": [],
   "source": [
    "# day of week analysis\n",
    "import time\n",
    "def day_of_week(date_time):\n",
    "    return \"{}{}\".format(date_time.weekday(),\n",
    "                         calendar.day_name[date_time.weekday()])\n",
    "\n",
    "\n",
    "weekday_df = pd.DataFrame(rxtx_df['total'].groupby(day_of_week, axis=0).count())\n",
    "weekday_df = weekday_df.merge(rx_df.groupby(day_of_week, axis=0).count(),\n",
    "                              left_index=True, right_index=True)\n",
    "weekday_df = weekday_df.merge(tx_df.groupby(day_of_week, axis=0).count(),\n",
    "                              left_index=True, right_index=True)\n",
    "\n",
    "weekday_df.plot()\n",
    "print weekday_df.T"
   ]
  },
  {
   "cell_type": "code",
   "execution_count": null,
   "metadata": {
    "collapsed": false
   },
   "outputs": [],
   "source": [
    "# chat heatmap by week\n",
    "days = ['Monday', 'Tuesday', 'Wednesday', 'Thursday', 'Friday', 'Saturday', 'Sunday']\n",
    "heat_df = pd.DataFrame(columns=days, index=pd.period_range('2013-09', '2015-04', freq='M'))\n",
    "\n",
    "for i in range(7):\n",
    "    heat_df[days[i]] = df[df.index.weekday == i].resample('M', how='count', kind='period')\n",
    "\n",
    "sns.heatmap(heat_df, yticklabels=heat_df.index)"
   ]
  },
  {
   "cell_type": "code",
   "execution_count": null,
   "metadata": {
    "collapsed": true
   },
   "outputs": [],
   "source": []
  }
 ],
 "metadata": {
  "kernelspec": {
   "display_name": "Python 2",
   "language": "python",
   "name": "python2"
  },
  "language_info": {
   "codemirror_mode": {
    "name": "ipython",
    "version": 2
   },
   "file_extension": ".py",
   "mimetype": "text/x-python",
   "name": "python",
   "nbconvert_exporter": "python",
   "pygments_lexer": "ipython2",
   "version": "2.7.6"
  }
 },
 "nbformat": 4,
 "nbformat_minor": 0
}
