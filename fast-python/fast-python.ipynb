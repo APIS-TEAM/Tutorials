{
 "cells": [
  {
   "cell_type": "markdown",
   "metadata": {
    "slideshow": {
     "slide_type": "slide"
    }
   },
   "source": [
    "# How to make your Python programs faster?\n",
    "### by Dhruv Baldawa (@dhruvbaldawa)"
   ]
  },
  {
   "cell_type": "markdown",
   "metadata": {
    "slideshow": {
     "slide_type": "slide"
    }
   },
   "source": [
    "## Disclaimer\n",
    "\n",
    "```html\n",
    "This talk was previously named \"Competition Programming and Problem solving using Python\".\n",
    "There might still be some remnants from that talk but I have updated it to be\n",
    "more up-to-date and add other relevant information\n",
    "\n",
    "# @TODO(DB): find a better description\n",
    "```"
   ]
  },
  {
   "cell_type": "markdown",
   "metadata": {
    "slideshow": {
     "slide_type": "slide"
    }
   },
   "source": [
    "## Why do we run into problems?"
   ]
  },
  {
   "cell_type": "markdown",
   "metadata": {
    "slideshow": {
     "slide_type": "fragment"
    }
   },
   "source": [
    " - Big dataset\n",
    " - Great complexity\n",
    " - Python interpreter limitations\n",
    " - All of the above"
   ]
  },
  {
   "cell_type": "markdown",
   "metadata": {
    "slideshow": {
     "slide_type": "slide"
    }
   },
   "source": [
    "## What this talk covers?"
   ]
  },
  {
   "cell_type": "markdown",
   "metadata": {
    "slideshow": {
     "slide_type": "fragment"
    }
   },
   "source": [
    " - Memory management\n",
    "   - lists v/s iterables\n",
    "   - itertools _(my favorite part)_\n",
    " - Time management\n",
    "   - correct data structures\n",
    "   - approach\n",
    " - New advancements\n",
    "   - multiprocessing\n",
    "   - Alternative interpreters\n",
    "   - Alternative compilers"
   ]
  },
  {
   "cell_type": "markdown",
   "metadata": {
    "slideshow": {
     "slide_type": "slide"
    }
   },
   "source": [
    "## Memory management\n",
    "\n",
    "### Why is important?\n",
    "\n",
    " - Most of the competitions require you store and compute results from large datasets.\t\n",
    " - Running out of memory limit is pretty common.\n",
    " - There is \"always\" a way to improve memory consumption of your program.\n",
    " - You can always throw more hardware, but fixing it in the software just feels nice ;)."
   ]
  },
  {
   "cell_type": "markdown",
   "metadata": {
    "slideshow": {
     "slide_type": "slide"
    }
   },
   "source": [
    "### Common problems\n",
    "\n",
    " - **MemoryError**[1]\n",
    "   - when you run out of memory but still you can get out of it (by deleting few objects)\n",
    " - **OverflowError**[1]\n",
    "   - when the results of an arithmetic operation is too large to be represented"
   ]
  },
  {
   "cell_type": "markdown",
   "metadata": {
    "slideshow": {
     "slide_type": "slide"
    }
   },
   "source": [
    "### List forms\n",
    "\n",
    " - better to store and re-use results of computations\t\n",
    " - use if you want to perform list operations, where you need to store all the items\t\n",
    " - consumes\tmuch more memory\n",
    " - only prefer when a real list cannot be avoided\n",
    " - all the elements are generated and initialized at once"
   ]
  },
  {
   "cell_type": "markdown",
   "metadata": {
    "slideshow": {
     "slide_type": "slide"
    }
   },
   "source": [
    "### Iterables\n",
    "\n",
    " - lazy and on-demand generation of values\n",
    " - very low memory consumption\n",
    " - very useful when you only need to work with the value at hand\n",
    " - **Cons**:\n",
    "   - cannot step backwards \n",
    "   - cannot or jump forwards\n",
    " - they are scalable and memory-friendly and used where real lists are not required"
   ]
  },
  {
   "cell_type": "code",
   "execution_count": 1,
   "metadata": {
    "collapsed": false,
    "slideshow": {
     "slide_type": "slide"
    }
   },
   "outputs": [],
   "source": [
    "%load_ext memory_profiler\n",
    "BIG_NUMBER = 10**7"
   ]
  },
  {
   "cell_type": "markdown",
   "metadata": {
    "slideshow": {
     "slide_type": "slide"
    }
   },
   "source": [
    "## range v/s xrange"
   ]
  },
  {
   "cell_type": "markdown",
   "metadata": {
    "slideshow": {
     "slide_type": "fragment"
    }
   },
   "source": [
    "#### range"
   ]
  },
  {
   "cell_type": "code",
   "execution_count": 2,
   "metadata": {
    "collapsed": false,
    "slideshow": {
     "slide_type": "fragment"
    }
   },
   "outputs": [
    {
     "name": "stdout",
     "output_type": "stream",
     "text": [
      "peak memory: 341.66 MiB, increment: 310.68 MiB\n"
     ]
    }
   ],
   "source": [
    "%%memit\n",
    "# range\n",
    "sum_ = 0\n",
    "l = range(BIG_NUMBER)\n",
    "for x in l:\n",
    "    sum_ += x"
   ]
  },
  {
   "cell_type": "code",
   "execution_count": 3,
   "metadata": {
    "collapsed": false,
    "slideshow": {
     "slide_type": "fragment"
    }
   },
   "outputs": [
    {
     "name": "stdout",
     "output_type": "stream",
     "text": [
      "9999999\n",
      "-1\n"
     ]
    }
   ],
   "source": [
    "# Access Operations\n",
    "print l[-1] # Pass\n",
    "\n",
    "# Assignment operation\n",
    "l[10] = -1 # Pass\n",
    "print l[10]"
   ]
  },
  {
   "cell_type": "markdown",
   "metadata": {
    "slideshow": {
     "slide_type": "subslide"
    }
   },
   "source": [
    "#### xrange"
   ]
  },
  {
   "cell_type": "code",
   "execution_count": 4,
   "metadata": {
    "collapsed": false,
    "slideshow": {
     "slide_type": "fragment"
    }
   },
   "outputs": [
    {
     "name": "stdout",
     "output_type": "stream",
     "text": [
      "peak memory: 342.02 MiB, increment: 0.00 MiB\n"
     ]
    }
   ],
   "source": [
    "%%memit\n",
    "# xrange\n",
    "sum_ = 0\n",
    "l = xrange(BIG_NUMBER)\n",
    "for x in l:\n",
    "    sum_ += x"
   ]
  },
  {
   "cell_type": "code",
   "execution_count": 5,
   "metadata": {
    "collapsed": false,
    "slideshow": {
     "slide_type": "fragment"
    }
   },
   "outputs": [
    {
     "name": "stdout",
     "output_type": "stream",
     "text": [
      "9999999\n",
      "10\n"
     ]
    }
   ],
   "source": [
    "# Access Operations\n",
    "print l[-1] # Pass\n",
    "\n",
    "# Assignment operation\n",
    "# l[10] = -1 # FAILS !!\n",
    "print l[10]"
   ]
  },
  {
   "cell_type": "markdown",
   "metadata": {
    "slideshow": {
     "slide_type": "subslide"
    }
   },
   "source": [
    " - In Python 3, the default behavior for `range` is like `xrange` in Python 2\n",
    " - To get `range`-like behavior in Python 3, use `list(range(x, y))` instead"
   ]
  },
  {
   "cell_type": "markdown",
   "metadata": {
    "slideshow": {
     "slide_type": "slide"
    }
   },
   "source": [
    "## List Comprehensions v/s Generator Expressions"
   ]
  },
  {
   "cell_type": "markdown",
   "metadata": {
    "slideshow": {
     "slide_type": "fragment"
    }
   },
   "source": [
    "### List Comprehensions"
   ]
  },
  {
   "cell_type": "markdown",
   "metadata": {
    "slideshow": {
     "slide_type": "fragment"
    }
   },
   "source": [
    "**Syntax**:\n",
    "```python\n",
    "[expression for variables in iterable if condition]\n",
    "```"
   ]
  },
  {
   "cell_type": "code",
   "execution_count": 6,
   "metadata": {
    "collapsed": false,
    "slideshow": {
     "slide_type": "fragment"
    }
   },
   "outputs": [
    {
     "name": "stdout",
     "output_type": "stream",
     "text": [
      "1 loops, best of 3: 3.11 s per loop\n"
     ]
    }
   ],
   "source": [
    "%%timeit\n",
    "# Using loops\n",
    "square_list = []\n",
    "for x in range(BIG_NUMBER):\n",
    "    square_list.append(x**2)"
   ]
  },
  {
   "cell_type": "code",
   "execution_count": 7,
   "metadata": {
    "collapsed": false,
    "slideshow": {
     "slide_type": "fragment"
    }
   },
   "outputs": [
    {
     "name": "stdout",
     "output_type": "stream",
     "text": [
      "[0, 1, 4, 9, 16, 25, 36, 49, 64, 81]\n",
      "[0, 1, 4, 9, 16, 25, 36, 49, 64, 81]\n",
      "[0, 1, 4, 9, 16, 25, 36, 49, 64, 81]\n",
      "[0, 1, 4, 9, 16, 25, 36, 49, 64, 81]\n",
      "1 loops, best of 3: 1.6 s per loop\n"
     ]
    }
   ],
   "source": [
    "%%timeit\n",
    "square_list = []\n",
    "# List comprehensions\n",
    "square_list = [x**2 for x in range(BIG_NUMBER)]\n",
    "print square_list[:10]"
   ]
  },
  {
   "cell_type": "markdown",
   "metadata": {
    "slideshow": {
     "slide_type": "subslide"
    }
   },
   "source": [
    "\n",
    "### Generator Expressions"
   ]
  },
  {
   "cell_type": "markdown",
   "metadata": {},
   "source": [
    "**Syntax**:\n",
    "```python\n",
    "(expression for variables in iterable if condition)\n",
    "```"
   ]
  },
  {
   "cell_type": "code",
   "execution_count": 8,
   "metadata": {
    "collapsed": false
   },
   "outputs": [
    {
     "name": "stdout",
     "output_type": "stream",
     "text": [
      "0\n",
      "0\n",
      "0\n",
      "0\n",
      "1 loops, best of 3: 213 ms per loop\n"
     ]
    }
   ],
   "source": [
    "%%timeit\n",
    "# Generator Expressions\n",
    "square_list = (x**2 for x in range(BIG_NUMBER))\n",
    "print square_list.next()"
   ]
  },
  {
   "cell_type": "markdown",
   "metadata": {
    "slideshow": {
     "slide_type": "slide"
    }
   },
   "source": [
    "## Functions v/s Generators"
   ]
  },
  {
   "cell_type": "markdown",
   "metadata": {
    "slideshow": {
     "slide_type": "fragment"
    }
   },
   "source": [
    "#### Functions"
   ]
  },
  {
   "cell_type": "markdown",
   "metadata": {
    "slideshow": {
     "slide_type": "fragment"
    }
   },
   "source": [
    "```python\n",
    "def function(params):\n",
    "    ....\n",
    "    ....\n",
    "    return something\n",
    "```"
   ]
  },
  {
   "cell_type": "code",
   "execution_count": 9,
   "metadata": {
    "collapsed": false,
    "slideshow": {
     "slide_type": "subslide"
    }
   },
   "outputs": [],
   "source": [
    "import math\n",
    "def get_me_factorials_till(n):\n",
    "    '''Returns a list of factorials from 1 to n'''\n",
    "    return_list = []\n",
    "    for x in range(1, n):\n",
    "        return_list.append(math.factorial(x))\n",
    "    return return_list"
   ]
  },
  {
   "cell_type": "code",
   "execution_count": 10,
   "metadata": {
    "collapsed": false,
    "slideshow": {
     "slide_type": "fragment"
    }
   },
   "outputs": [
    {
     "name": "stdout",
     "output_type": "stream",
     "text": [
      "peak memory: 500.69 MiB, increment: 0.03 MiB\n",
      "[1, 2, 6, 24, 120, 720, 5040, 40320, 362880]\n"
     ]
    }
   ],
   "source": [
    "%memit\n",
    "factorials = get_me_factorials_till(10)\n",
    "print factorials"
   ]
  },
  {
   "cell_type": "markdown",
   "metadata": {
    "slideshow": {
     "slide_type": "subslide"
    }
   },
   "source": [
    "#### Generators"
   ]
  },
  {
   "cell_type": "markdown",
   "metadata": {
    "slideshow": {
     "slide_type": "fragment"
    }
   },
   "source": [
    "```python\n",
    "def function(params):\n",
    "    ...\n",
    "    ...\n",
    "    yield something\n",
    "```"
   ]
  },
  {
   "cell_type": "code",
   "execution_count": 11,
   "metadata": {
    "collapsed": false,
    "slideshow": {
     "slide_type": "fragment"
    }
   },
   "outputs": [],
   "source": [
    "import math\n",
    "def generate_me_factorials_till(n):\n",
    "    '''Generates factorials from 1 to n'''\n",
    "    for x in range(1, n):\n",
    "        yield math.factorial(x)\n",
    "\n",
    "factorials = generate_me_factorials_till(10)"
   ]
  },
  {
   "cell_type": "code",
   "execution_count": 12,
   "metadata": {
    "collapsed": false,
    "slideshow": {
     "slide_type": "subslide"
    }
   },
   "outputs": [
    {
     "name": "stdout",
     "output_type": "stream",
     "text": [
      "<generator object generate_me_factorials_till at 0x7f724ece4dc0>\n",
      "1\n"
     ]
    }
   ],
   "source": [
    "print factorials\n",
    "\n",
    "# Its an iterator\n",
    "print factorials.next()"
   ]
  },
  {
   "cell_type": "code",
   "execution_count": 13,
   "metadata": {
    "collapsed": false,
    "slideshow": {
     "slide_type": "-"
    }
   },
   "outputs": [
    {
     "name": "stdout",
     "output_type": "stream",
     "text": [
      "peak memory: 500.74 MiB, increment: 0.03 MiB\n",
      "1 2 6 24 120 720 5040 40320 362880\n"
     ]
    }
   ],
   "source": [
    "%memit\n",
    "# Create a new generator, since the earlier one will be used up\n",
    "factorials = generate_me_factorials_till(10)\n",
    "for factorial in factorials:\n",
    "    print factorial,"
   ]
  },
  {
   "cell_type": "markdown",
   "metadata": {
    "slideshow": {
     "slide_type": "slide"
    }
   },
   "source": [
    "## Set and Dictionary Comprehensions"
   ]
  },
  {
   "cell_type": "markdown",
   "metadata": {
    "slideshow": {
     "slide_type": "fragment"
    }
   },
   "source": [
    "**Set Comprehension:**\n",
    "```python\n",
    "{value for value in expressions if conditions}\n",
    "```\n",
    "\n",
    "**Dict Comprehensions:**\n",
    "```python\n",
    "{key: value for key, value in expressionss if conditions}\n",
    "```"
   ]
  },
  {
   "cell_type": "code",
   "execution_count": 14,
   "metadata": {
    "collapsed": false,
    "slideshow": {
     "slide_type": "fragment"
    }
   },
   "outputs": [
    {
     "name": "stdout",
     "output_type": "stream",
     "text": [
      "set(['A', 'C', 'B', 'E', 'D', 'F'])\n",
      "{0: 1, 1: 2, 2: 3, 3: 4, 4: 5, 5: 6, 6: 7, 7: 8, 8: 9, 9: 10}\n"
     ]
    }
   ],
   "source": [
    "# Set comprehension\n",
    "print {k for k in 'ABCDEFEDCBA'}\n",
    "\n",
    "# Dictionary Comprehension\n",
    "print {k: k+1 for k in range(10)}"
   ]
  },
  {
   "cell_type": "markdown",
   "metadata": {
    "slideshow": {
     "slide_type": "slide"
    }
   },
   "source": [
    "## import itertools\n",
    "\n",
    " - itertools module provides a set of fast, memory efficient iterators\n",
    " - provides fast implementations for common jobs like product, permutations, combinations"
   ]
  },
  {
   "cell_type": "markdown",
   "metadata": {
    "slideshow": {
     "slide_type": "subslide"
    }
   },
   "source": [
    "<img src=\"itertools.png\" />"
   ]
  },
  {
   "cell_type": "code",
   "execution_count": 15,
   "metadata": {
    "collapsed": false,
    "slideshow": {
     "slide_type": "subslide"
    }
   },
   "outputs": [
    {
     "name": "stdout",
     "output_type": "stream",
     "text": [
      "(1, 3, 0, 2)\n",
      "(2, 0, 3, 1)\n"
     ]
    }
   ],
   "source": [
    "# N-Queens Puzzle\n",
    "# Reference: http://code.activestate.com/recipes/576647-eight-queens-six-lines/\n",
    "from itertools import permutations\n",
    "\n",
    "n = 4\n",
    "cols = range(n)\n",
    "for vec in permutations(cols):\n",
    "    if (n == len(set(vec[i]+i for i in cols))\n",
    "          == len(set(vec[i]-i for i in cols))):\n",
    "        print vec"
   ]
  },
  {
   "cell_type": "code",
   "execution_count": 16,
   "metadata": {
    "collapsed": false,
    "slideshow": {
     "slide_type": "fragment"
    }
   },
   "outputs": [
    {
     "name": "stdout",
     "output_type": "stream",
     "text": [
      "a 4 b 2 c 4 d 3\n"
     ]
    }
   ],
   "source": [
    "# run-length encoding\n",
    "from itertools import groupby\n",
    "for key, group in groupby(\"aaaabbccccddd\"):\n",
    "    print key, len(list(group)),"
   ]
  },
  {
   "cell_type": "markdown",
   "metadata": {
    "slideshow": {
     "slide_type": "slide"
    }
   },
   "source": [
    "## Time optimizations\n",
    "\n",
    " - choosing the right data structure\n",
    " - choosing the right approach\n",
    "\n",
    "```html\n",
    "    \"Bad Programmers worry about code. Good programmers worry about data structures and their relationships\"\n",
    "    -- Linus Torvalds\n",
    "```"
   ]
  },
  {
   "cell_type": "markdown",
   "metadata": {
    "slideshow": {
     "slide_type": "subslide"
    }
   },
   "source": [
    " - **Don’t re-invent the wheel.** Use `tuple`, `list`, `dict`, `sets`, as they are coded in `C` and hence are _FAST_\n",
    " - for membership tests use `dict`/`set` [O(1)] instead of `list`/`tuple` [O(n)]\n",
    " - use `collections`\n",
    " - Queue operations like `pop()`, `insert()` are better in `collections.deque` [O(1)] than `list`[O(n) for insertion at the start]\n",
    " - use `bisect`, `heapq` for sorted lists\n"
   ]
  },
  {
   "cell_type": "markdown",
   "metadata": {
    "slideshow": {
     "slide_type": "slide"
    }
   },
   "source": [
    "## import collections\n",
    "\n",
    " - `deque`\n",
    " - `Counter`\n",
    " - `OrderedDict`\n",
    " - `defaultdict`"
   ]
  },
  {
   "cell_type": "markdown",
   "metadata": {
    "slideshow": {
     "slide_type": "subslide"
    }
   },
   "source": [
    "#### deque"
   ]
  },
  {
   "cell_type": "code",
   "execution_count": 17,
   "metadata": {
    "collapsed": false
   },
   "outputs": [
    {
     "name": "stdout",
     "output_type": "stream",
     "text": [
      "deque(['first', 'second', 'third', 'current last'])\n",
      "--\n"
     ]
    }
   ],
   "source": [
    "import collections\n",
    "# Creating a deque\n",
    "\n",
    "d = collections.deque(['first', 'second', 'third', 'current last'])\n",
    "print d\n",
    "print '--'"
   ]
  },
  {
   "cell_type": "code",
   "execution_count": 18,
   "metadata": {
    "collapsed": false,
    "slideshow": {
     "slide_type": "-"
    }
   },
   "outputs": [
    {
     "name": "stdout",
     "output_type": "stream",
     "text": [
      ">>> d.rotate()\n",
      "deque(['current last', 'first', 'second', 'third'])\n",
      "--\n",
      ">>> d.rotate(-1)\n",
      "deque(['first', 'second', 'third', 'current last'])\n",
      "--\n"
     ]
    }
   ],
   "source": [
    "# right rotation\n",
    "d.rotate()\n",
    "print '>>> d.rotate()'\n",
    "print d\n",
    "print '--'\n",
    "\n",
    "# left rotation\n",
    "d.rotate(-1)\n",
    "print '>>> d.rotate(-1)'\n",
    "print d\n",
    "print '--'"
   ]
  },
  {
   "cell_type": "code",
   "execution_count": 19,
   "metadata": {
    "collapsed": false,
    "slideshow": {
     "slide_type": "subslide"
    }
   },
   "outputs": [
    {
     "name": "stdout",
     "output_type": "stream",
     "text": [
      ">>> d.appendleft(\"new first\")\n",
      "deque(['new first', 'first', 'second', 'third', 'current last'])\n",
      "--\n",
      ">>> d.popleft()\n",
      "deque(['first', 'second', 'third', 'current last'])\n",
      "--\n"
     ]
    }
   ],
   "source": [
    "# append from left side\n",
    "d.appendleft(\"new first\")\n",
    "print '>>> d.appendleft(\"new first\")'\n",
    "print d\n",
    "print '--'\n",
    "\n",
    "# remove from the left side\n",
    "d.popleft()\n",
    "print '>>> d.popleft()'\n",
    "print d\n",
    "print '--'"
   ]
  },
  {
   "cell_type": "code",
   "execution_count": 20,
   "metadata": {
    "collapsed": false
   },
   "outputs": [
    {
     "name": "stdout",
     "output_type": "stream",
     "text": [
      ">>> d.append(\"new last\")\n",
      "deque(['first', 'second', 'third', 'current last', 'new last'])\n",
      "--\n",
      ">>> d.pop()\n",
      "deque(['first', 'second', 'third', 'current last'])\n",
      "--\n"
     ]
    }
   ],
   "source": [
    "d.append(\"new last\")\n",
    "print '>>> d.append(\"new last\")'\n",
    "print d\n",
    "print '--'\n",
    "\n",
    "d.pop()\n",
    "print '>>> d.pop()'\n",
    "print d\n",
    "print '--'"
   ]
  },
  {
   "cell_type": "markdown",
   "metadata": {
    "slideshow": {
     "slide_type": "subslide"
    }
   },
   "source": [
    "#### Counter"
   ]
  },
  {
   "cell_type": "code",
   "execution_count": 21,
   "metadata": {
    "collapsed": false
   },
   "outputs": [
    {
     "name": "stdout",
     "output_type": "stream",
     "text": [
      "Counter({'a': 3, 'b': 1}) Counter({'b': 2, 'a': 1})\n",
      "--\n"
     ]
    }
   ],
   "source": [
    "# Playground\n",
    "from collections import Counter\n",
    "c = Counter(a=3, b=1)\n",
    "d = Counter(a=1, b=2)\n",
    "\n",
    "print c, d\n",
    "print '--'"
   ]
  },
  {
   "cell_type": "code",
   "execution_count": 22,
   "metadata": {
    "collapsed": false,
    "slideshow": {
     "slide_type": "subslide"
    }
   },
   "outputs": [
    {
     "name": "stdout",
     "output_type": "stream",
     "text": [
      ">>> c + d\n",
      "Counter({'a': 4, 'b': 3})\n",
      "--\n",
      ">>> c - d\n",
      "Counter({'a': 2})\n",
      "--\n"
     ]
    }
   ],
   "source": [
    "# add two counters together:  c[x] + d[x]\n",
    "print '>>> c + d'\n",
    "print c + d\n",
    "print '--'\n",
    "\n",
    "# subtract (keeping only positive counts)\n",
    "print '>>> c - d'\n",
    "print c - d\n",
    "print '--'"
   ]
  },
  {
   "cell_type": "code",
   "execution_count": 23,
   "metadata": {
    "collapsed": false
   },
   "outputs": [
    {
     "name": "stdout",
     "output_type": "stream",
     "text": [
      ">>> c & d\n",
      "Counter({'a': 1, 'b': 1})\n",
      "--\n",
      ">>> c | d\n",
      "Counter({'a': 3, 'b': 2})\n",
      "--\n"
     ]
    }
   ],
   "source": [
    "# intersection:  min(c[x], d[x])\n",
    "print '>>> c & d'\n",
    "print c & d\n",
    "print '--'\n",
    "\n",
    "# union:  max(c[x], d[x])\n",
    "print '>>> c | d'\n",
    "print c | d\n",
    "print '--'"
   ]
  },
  {
   "cell_type": "code",
   "execution_count": 24,
   "metadata": {
    "collapsed": false,
    "slideshow": {
     "slide_type": "subslide"
    }
   },
   "outputs": [
    {
     "name": "stdout",
     "output_type": "stream",
     "text": [
      "Counter({'a': 1, 'shine': 1, 'Susie': 1, 'shop': 1, 'sitting': 1, 'I': 1, 'shoe': 1, 'in': 1, 'saw': 1, '': 1})\n",
      "--\n",
      ">>> c.update(new_text)\n",
      "Counter({'she': 4, 'shines': 2, 'sits': 2, '': 2, 'a': 1, 'shine': 1, 'and': 1, 'Susie': 1, 'shop': 1, 'sitting': 1, 'I': 1, 'Where': 1, 'where': 1, 'shoe': 1, 'in': 1, 'saw': 1})\n",
      "--\n",
      ">>> c.most_common(3)\n",
      "[('she', 4), ('shines', 2), ('sits', 2)]\n",
      "--\n"
     ]
    }
   ],
   "source": [
    "text = \"I saw Susie sitting in a shoe shine shop.\"\n",
    "\n",
    "import re\n",
    "c = Counter(re.split(r\"\\W+\", text, flags=re.IGNORECASE))\n",
    "print c\n",
    "print '--'\n",
    "\n",
    "new_text = \"Where she sits she shines, and where she shines she sits.\"\n",
    "print '>>> c.update(new_text)'\n",
    "c.update(re.split(r\"\\W+\", new_text, flags=re.IGNORECASE))\n",
    "print c\n",
    "print '--'\n",
    "\n",
    "print '>>> c.most_common(3)'\n",
    "print c.most_common(3)\n",
    "print '--'"
   ]
  },
  {
   "cell_type": "markdown",
   "metadata": {
    "slideshow": {
     "slide_type": "subslide"
    }
   },
   "source": [
    "#### defaultdict"
   ]
  },
  {
   "cell_type": "code",
   "execution_count": 25,
   "metadata": {
    "collapsed": false
   },
   "outputs": [
    {
     "name": "stdout",
     "output_type": "stream",
     "text": [
      "0\n"
     ]
    }
   ],
   "source": [
    "from collections import defaultdict\n",
    "\n",
    "# defaultdict takes a default_factory as an argument\n",
    "# you can always subclass it to have it with your own\n",
    "# default factory\n",
    "default_dict = defaultdict(int)\n",
    "print default_dict[10]"
   ]
  },
  {
   "cell_type": "markdown",
   "metadata": {
    "slideshow": {
     "slide_type": "slide"
    }
   },
   "source": [
    "## Memoization\n",
    "\n",
    " - caching results from previous procedure calls and using them directly\n",
    " - it can only be memoized if a function called with same arguments, **always** return the same result\n",
    "\n",
    "```python\n",
    "def memoized_function(value):\n",
    "    if value in cache:\n",
    "        return cache[value]\n",
    "    else:\n",
    "        cache[value] = compute(value)\n",
    "        return cache[value]\n",
    "```"
   ]
  },
  {
   "cell_type": "markdown",
   "metadata": {
    "slideshow": {
     "slide_type": "subslide"
    }
   },
   "source": [
    "### Collatz Conjecture"
   ]
  },
  {
   "cell_type": "markdown",
   "metadata": {},
   "source": [
    "```html\n",
    "The following iterative sequence is defined for the set of positive integers:\n",
    "\n",
    "n ->  n/2 (n is even)\n",
    "n -> 3n + 1 (n is odd)\n",
    "\n",
    "Using the rule above and starting with 13, we generate the following sequence:\n",
    "13 -> 40 -> 20 -> 10 -> 5 -> 16 -> 8 -> 4 -> 2 -> 1\n",
    "\n",
    "Which starting number, under one lakh, produces the longest chain?\n",
    "```"
   ]
  },
  {
   "cell_type": "code",
   "execution_count": 26,
   "metadata": {
    "collapsed": false,
    "slideshow": {
     "slide_type": "subslide"
    }
   },
   "outputs": [
    {
     "name": "stdout",
     "output_type": "stream",
     "text": [
      "1 loops, best of 3: 4.78 s per loop\n"
     ]
    }
   ],
   "source": [
    "# Iterative solution\n",
    "def chain(i):\n",
    "    '''Iterative approach to solve the chain problem'''\n",
    "    c = [i]\n",
    "    last_element = i\n",
    "\n",
    "    while last_element > 1:\n",
    "        if last_element % 2 == 0:\n",
    "            last_element = last_element / 2\n",
    "        else:\n",
    "            last_element = 3 * last_element + 1\n",
    "        c.append(last_element)\n",
    "    return c\n",
    "\n",
    "def the_simple_chain():\n",
    "    start = 2\n",
    "    limit = 100000\n",
    "    max_length = 1\n",
    "    max_num = 1\n",
    "    for i in xrange(start, limit):\n",
    "        c = chain(i)\n",
    "        if len(c) > max_length:\n",
    "            max_num = i\n",
    "            max_length = len(c)\n",
    "\n",
    "    return max_num\n",
    "\n",
    "%timeit the_simple_chain()"
   ]
  },
  {
   "cell_type": "code",
   "execution_count": 27,
   "metadata": {
    "collapsed": false,
    "slideshow": {
     "slide_type": "subslide"
    }
   },
   "outputs": [
    {
     "name": "stdout",
     "output_type": "stream",
     "text": [
      "1 loops, best of 3: 12 s per loop\n"
     ]
    }
   ],
   "source": [
    "# Recursive solution\n",
    "def chain(n):\n",
    "    \"\"\"\n",
    "    Recursive function for the above expression\n",
    "    \"\"\"\n",
    "    if n == 1:\n",
    "        return [1]\n",
    "    else:\n",
    "        if n % 2 == 0:\n",
    "            return [n] + chain(n / 2)\n",
    "        else:\n",
    "            return [n] + chain(3 * n + 1)\n",
    "\n",
    "def the_recursive_chain():\n",
    "    start = 2\n",
    "    limit = 100000\n",
    "    max_length = 1\n",
    "    max_num = 1\n",
    "\n",
    "    for i in xrange(limit, start, -1):\n",
    "        chain_list = chain(i)\n",
    "\n",
    "        if len(chain_list) > max_length:\n",
    "            max_length = len(chain_list)\n",
    "            max_num = i\n",
    "\n",
    "    return max_num\n",
    "\n",
    "%timeit the_recursive_chain()"
   ]
  },
  {
   "cell_type": "code",
   "execution_count": 28,
   "metadata": {
    "collapsed": false,
    "slideshow": {
     "slide_type": "subslide"
    }
   },
   "outputs": [
    {
     "name": "stdout",
     "output_type": "stream",
     "text": [
      "The slowest run took 6.97 times longer than the fastest. This could mean that an intermediate result is being cached \n",
      "1 loops, best of 3: 120 ms per loop\n"
     ]
    }
   ],
   "source": [
    "# Recursive solution\n",
    "cache = {}\n",
    "def chain(n):\n",
    "    \"\"\"\n",
    "    Memoized recursive function for the above expression\n",
    "    \"\"\"\n",
    "    if n in cache:\n",
    "        return cache[n]\n",
    "    if n == 1:\n",
    "        cache[1] = [1]\n",
    "        return cache[1]\n",
    "    else:\n",
    "        if n % 2 == 0:\n",
    "            cache[n] = [n] + chain(n / 2)\n",
    "            return cache[n]\n",
    "        else:\n",
    "            cache[n] = [n] + chain(3 * n + 1)\n",
    "            return cache[n]\n",
    "\n",
    "def the_recursive_chain():\n",
    "    start = 2\n",
    "    limit = 100000\n",
    "    max_length = 1\n",
    "    max_num = 1\n",
    "\n",
    "    for i in xrange(limit, start, -1):\n",
    "        chain_list = chain(i)\n",
    "\n",
    "        if len(chain_list) > max_length:\n",
    "            max_length = len(chain_list)\n",
    "            max_num = i\n",
    "\n",
    "    return max_num\n",
    "\n",
    "%timeit the_recursive_chain()"
   ]
  },
  {
   "cell_type": "markdown",
   "metadata": {
    "slideshow": {
     "slide_type": "slide"
    }
   },
   "source": [
    "## Multiplication Problem\n",
    "\n",
    "Implement multiplication operation when no multiplication operator is available"
   ]
  },
  {
   "cell_type": "markdown",
   "metadata": {
    "slideshow": {
     "slide_type": "-"
    }
   },
   "source": [
    "**Naive Implementation**\n",
    "\n",
    "2 * 3 = 2 + 2 + 2"
   ]
  },
  {
   "cell_type": "code",
   "execution_count": 29,
   "metadata": {
    "collapsed": false,
    "slideshow": {
     "slide_type": "-"
    }
   },
   "outputs": [
    {
     "name": "stdout",
     "output_type": "stream",
     "text": [
      "1 loops, best of 3: 2.04 s per loop\n"
     ]
    }
   ],
   "source": [
    "# Naive Multiplication\n",
    "def naive(a, b):\n",
    "    x = a\n",
    "    y = b\n",
    "    z = 0\n",
    "    while x > 0:\n",
    "        z = z + y\n",
    "        x = x - 1\n",
    "    return z\n",
    "\n",
    "%timeit naive(BIG_NUMBER, BIG_NUMBER)"
   ]
  },
  {
   "cell_type": "markdown",
   "metadata": {
    "slideshow": {
     "slide_type": "subslide"
    }
   },
   "source": [
    "#### Russian Peasant's Algorithm\n",
    "\n",
    " - Write each number at the head of a column.\n",
    " - Double the number in the first column, and halve the number in the second column.\n",
    "   - If the number in the second column is odd, divide it by two and drop the remainder.\n",
    " - If the number in the second column is even, cross out that entire row.\n",
    " - Keep doubling, halving, and crossing out until the number in the second column is 1.\n",
    " - Add up the remaining numbers in the first column. The total is the product of your original numbers.\n"
   ]
  },
  {
   "cell_type": "markdown",
   "metadata": {
    "slideshow": {
     "slide_type": "subslide"
    }
   },
   "source": [
    "```html\n",
    "Let's multiply 57 by 86 as an example:\n",
    "Write each number at the head of a column.\n",
    "\n",
    "57 \t 86 \n",
    "Double the number in the first column, and halve the number in the second column.\n",
    "\n",
    "57 \t   86 \n",
    "114    43 \n",
    "If the number in the second column is even, cross out that entire row.\n",
    "\n",
    "57 XX   86 XX \n",
    "114 \t43 \n",
    "Keep doubling, halving, and crossing out until the number in the second column is 1.\n",
    "\n",
    "57 XX   86 XX\n",
    "114 \t43 \n",
    "228 \t21 \n",
    "456 XX  10 XX\n",
    "912 \t 5 \n",
    "1824 XX  2 \n",
    "3648 \t 1 \n",
    "Add up the remaining numbers in the first column.\n",
    "\n",
    "  114 \t43 \n",
    "  228 \t21 \n",
    "  912 \t 5 \n",
    "+ 3648     1\n",
    "--------------\n",
    "  4902\n",
    "```"
   ]
  },
  {
   "cell_type": "code",
   "execution_count": 30,
   "metadata": {
    "collapsed": false,
    "slideshow": {
     "slide_type": "subslide"
    }
   },
   "outputs": [
    {
     "name": "stdout",
     "output_type": "stream",
     "text": [
      "100000 loops, best of 3: 10.4 µs per loop\n"
     ]
    }
   ],
   "source": [
    "# Russian Peasant's Algorithm for Multiplication\n",
    "def russian(a, b):\n",
    "    x = a\n",
    "    y = b\n",
    "    z = 0\n",
    "    while x > 0:\n",
    "        if x % 2 == 1:\n",
    "            z = z + y\n",
    "        y = y << 1\n",
    "        x = x >> 1\n",
    "    return z\n",
    "\n",
    "%timeit russian(BIG_NUMBER, BIG_NUMBER)"
   ]
  },
  {
   "cell_type": "code",
   "execution_count": 31,
   "metadata": {
    "collapsed": false,
    "slideshow": {
     "slide_type": "subslide"
    }
   },
   "outputs": [
    {
     "name": "stdout",
     "output_type": "stream",
     "text": [
      "100000 loops, best of 3: 14.2 µs per loop\n"
     ]
    }
   ],
   "source": [
    "# Recursive Russian Peasant's Algorithm\n",
    "def rec_russian(a, b):\n",
    "    if a == 0:\n",
    "        return 0\n",
    "    if a % 2 == 0:\n",
    "        return 2 * rec_russian(a/2, b)\n",
    "    return b + 2 * rec_russian((a-1)/2, b)\n",
    "\n",
    "%timeit rec_russian(BIG_NUMBER, BIG_NUMBER)"
   ]
  },
  {
   "cell_type": "markdown",
   "metadata": {
    "slideshow": {
     "slide_type": "slide"
    }
   },
   "source": [
    "## Other tools\n",
    "\n",
    " - multiprocessing\n",
    " - other interpreters\n",
    " - other compilers"
   ]
  },
  {
   "cell_type": "markdown",
   "metadata": {
    "slideshow": {
     "slide_type": "slide"
    }
   },
   "source": [
    "### `multiprocessing`\n",
    "\n",
    " - Utilize multiple cores\n",
    " - Communicate between the processes by using a `Queue` or a `Pipe`\n",
    " - Implements traditional concurrency primitives like locks, events and semaphores\n",
    " - Processes can also share memory"
   ]
  },
  {
   "cell_type": "code",
   "execution_count": 32,
   "metadata": {
    "collapsed": false,
    "slideshow": {
     "slide_type": "subslide"
    }
   },
   "outputs": [
    {
     "name": "stdout",
     "output_type": "stream",
     "text": [
      "[42, None, 'hello']\n"
     ]
    }
   ],
   "source": [
    "from multiprocessing import Process, Queue\n",
    "\n",
    "def f(q):\n",
    "    q.put([42, None, 'hello'])\n",
    "\n",
    "if __name__ == '__main__':\n",
    "    q = Queue()\n",
    "    p = Process(target=f, args=(q,))\n",
    "    p.start()\n",
    "    print(q.get())    # prints \"[42, None, 'hello']\"\n",
    "    p.join()"
   ]
  },
  {
   "cell_type": "code",
   "execution_count": 33,
   "metadata": {
    "collapsed": false,
    "slideshow": {
     "slide_type": "subslide"
    }
   },
   "outputs": [
    {
     "name": "stdout",
     "output_type": "stream",
     "text": [
      "[42, None, 'hello']\n"
     ]
    }
   ],
   "source": [
    "from multiprocessing import Process, Pipe\n",
    "\n",
    "def f(conn):\n",
    "    conn.send([42, None, 'hello'])\n",
    "    conn.close()\n",
    "\n",
    "if __name__ == '__main__':\n",
    "    parent_conn, child_conn = Pipe()\n",
    "    p = Process(target=f, args=(child_conn,))\n",
    "    p.start()\n",
    "    print(parent_conn.recv())   # prints \"[42, None, 'hello']\"\n",
    "    p.join()"
   ]
  },
  {
   "cell_type": "markdown",
   "metadata": {
    "slideshow": {
     "slide_type": "slide"
    }
   },
   "source": [
    "### PyPy\n",
    "\n",
    " - Works out of the box with pure Python 2 modules\n",
    "   - integration possible with C extensions using \n",
    " - Speed\n",
    "   - not so great with short run processes or places where code spends most of its time in C\n",
    " - Memory\n",
    " - Stackless\n",
    " - Python 3 support in beta (yet)"
   ]
  },
  {
   "cell_type": "code",
   "execution_count": 34,
   "metadata": {
    "collapsed": false,
    "slideshow": {
     "slide_type": "fragment"
    }
   },
   "outputs": [
    {
     "name": "stdout",
     "output_type": "stream",
     "text": [
      "499999999500000000\n",
      "CPU times: user 4.77 ms, sys: 13 ms, total: 17.8 ms\n",
      "Wall time: 2.19 s\n"
     ]
    }
   ],
   "source": [
    "%%time\n",
    "%%pypy\n",
    "\n",
    "print sum(xrange(10**9))"
   ]
  },
  {
   "cell_type": "code",
   "execution_count": 35,
   "metadata": {
    "collapsed": false,
    "slideshow": {
     "slide_type": "fragment"
    }
   },
   "outputs": [
    {
     "name": "stdout",
     "output_type": "stream",
     "text": [
      "499999999500000000\n",
      "CPU times: user 18.1 s, sys: 23.9 ms, total: 18.1 s\n",
      "Wall time: 18.2 s\n"
     ]
    }
   ],
   "source": [
    "%%time\n",
    "print sum(xrange(10 ** 9))"
   ]
  },
  {
   "cell_type": "markdown",
   "metadata": {
    "slideshow": {
     "slide_type": "slide"
    }
   },
   "source": [
    "### `numba`\n",
    "\n",
    " - jit compiles python code to native machine instructions\n",
    " - utilizes the LLVM infrastructure to generate efficient machine code\n",
    " - can be configured to work on both CPUs, GPUs\n",
    "\n",
    "#### using `numpy`\n",
    "```python\n",
    "import numpy as np\n",
    "\n",
    "def pairwise_python(X, D):\n",
    "    M = X.shape[0]\n",
    "    N = X.shape[1]\n",
    "    for i in range(M):\n",
    "        for j in range(M):\n",
    "            d = 0.0\n",
    "            for k in range(N):\n",
    "                tmp = X[i, k] - X[j, k]\n",
    "                d += tmp * tmp\n",
    "            D[i, j] = np.sqrt(d)\n",
    "\n",
    "X, D = np.random.random((1000, 3)), np.empty((1000, 1000))\n",
    "%timeit pairwise_python(X, D)\n",
    "1 loops, best of 3: 12.1 s per loop\n",
    "```"
   ]
  },
  {
   "cell_type": "markdown",
   "metadata": {
    "collapsed": true,
    "slideshow": {
     "slide_type": "subslide"
    }
   },
   "source": [
    "#### using `numba`\n",
    "```python\n",
    "import numpy as np\n",
    "from numba import double\n",
    "from numba.decorators import jit\n",
    "\n",
    "@jit(arg_types=[double[:,:], double[:,:]])\n",
    "def pairwise_numba(X, D):\n",
    "    M = X.shape[0]\n",
    "    N = X.shape[1]\n",
    "    for i in range(M):\n",
    "        for j in range(M):\n",
    "            d = 0.0\n",
    "            for k in range(N):\n",
    "                tmp = X[i, k] - X[j, k]\n",
    "                d += tmp * tmp\n",
    "            D[i, j] = np.sqrt(d)\n",
    "\n",
    "X, D = np.random.random((1000, 3)), np.empty((1000, 1000))\n",
    "%timeit pairwise_python(X, D)\n",
    "100 loops, best of 3: 15.5 ms per loop\n",
    "```\n",
    "\n",
    "**Reference:** https://jakevdp.github.io/blog/2012/08/24/numba-vs-cython/"
   ]
  },
  {
   "cell_type": "markdown",
   "metadata": {
    "collapsed": true,
    "slideshow": {
     "slide_type": "slide"
    }
   },
   "source": [
    "### Nuitka\n",
    " - Python compiler compatible with Python 2.6, 2.7, 3.2, 3.3, and 3.4\n",
    " - Almost 2x faster than CPython\n",
    " - Builds a single executable"
   ]
  },
  {
   "cell_type": "markdown",
   "metadata": {
    "slideshow": {
     "slide_type": "slide"
    }
   },
   "source": [
    "### Things not covered\n",
    "\n",
    " - Cython\n",
    " - Numpy / Pandas / scientific Python stack\n",
    " - asyncio\n",
    " - Greenlets, gevent\n",
    " - Stackless Python\n",
    " - Pyston"
   ]
  },
  {
   "cell_type": "markdown",
   "metadata": {
    "slideshow": {
     "slide_type": "slide"
    }
   },
   "source": [
    "### Other possible optimizations\n",
    "\n",
    " - String concatenation is better with `''.join(seq) [O(n)]` instead of `+` or `+=` can be `[O(n**2)]` process because new strings may be built for each intermediate step.\n",
    " - `x = 10; y = 20` over `x, y = 10, 20`\n",
    " - `x < y < z` over `x < y and y < z`\n",
    " - `map` over simple `for` loops"
   ]
  },
  {
   "cell_type": "markdown",
   "metadata": {
    "collapsed": true,
    "slideshow": {
     "slide_type": "slide"
    }
   },
   "source": [
    "## and one more thing ...\n",
    "\n",
    "### only optimize when you **have** to\n",
    "\n",
    "### \"Premature optimization is the root of all evil\"\n",
    "\n",
    "and yes\n",
    "\n",
    "# Questions?\n",
    "\n",
    "#### Dhruv Baldawa (@dhruvbaldawa)"
   ]
  },
  {
   "cell_type": "markdown",
   "metadata": {
    "slideshow": {
     "slide_type": "slide"
    }
   },
   "source": [
    "# References\n",
    "\n",
    " 1. https://wiki.python.org/moin/PythonSpeed\n",
    " 2. https://wiki.python.org/moin/TimeComplexity\n",
    " 3. https://wiki.python.org/moin/PythonImplementations\n",
    " 4. https://wiki.python.org/moin/PythonSpeed/PerformanceTips\n",
    " 5. http://pypy.org/performance.html\n",
    " 6. http://www.udacity.com/wiki/CS215%20Unit%201%20Code?course=cs215\n",
    " 7. http://justindailey.blogspot.in/2011/09/python‐range-vs‐xrange.html\n",
    " 8. http://en.wikipedia.org/wiki/List_comprehension\n",
    " 9. http://docs.python.org/library/collections.html\n",
    " 10. http://en.wikipedia.org/wiki/Memoization\n",
    " 11. http://en.wikipedia.org/wiki/Collatz_conjecture"
   ]
  }
 ],
 "metadata": {
  "celltoolbar": "Slideshow",
  "kernelspec": {
   "display_name": "Python 2",
   "language": "python",
   "name": "python2"
  },
  "language_info": {
   "codemirror_mode": {
    "name": "ipython",
    "version": 2
   },
   "file_extension": ".py",
   "mimetype": "text/x-python",
   "name": "python",
   "nbconvert_exporter": "python",
   "pygments_lexer": "ipython2",
   "version": "2.7.10"
  }
 },
 "nbformat": 4,
 "nbformat_minor": 0
}
